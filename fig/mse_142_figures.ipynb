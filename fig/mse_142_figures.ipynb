{
 "cells": [
  {
   "cell_type": "markdown",
   "id": "93853a08-772a-4a6b-a598-32f45291d380",
   "metadata": {},
   "source": [
    "# MATSCI 142 figures\n",
    "\n",
    "_Authors: Enze Chen_\n",
    "\n",
    "## Imports"
   ]
  },
  {
   "cell_type": "code",
   "execution_count": null,
   "id": "82b09d40-c847-490a-84cd-6df902d9a599",
   "metadata": {
    "tags": []
   },
   "outputs": [],
   "source": [
    "import numpy as np\n",
    "import matplotlib.pyplot as plt\n",
    "from matplotlib import transforms\n",
    "from scipy.special import hermite"
   ]
  },
  {
   "cell_type": "markdown",
   "id": "8b7e5c35-e293-412f-8a12-94a42a51b62f",
   "metadata": {
    "jp-MarkdownHeadingCollapsed": true,
    "tags": []
   },
   "source": [
    "## Double slit pattern"
   ]
  },
  {
   "cell_type": "code",
   "execution_count": null,
   "id": "0a553c4c-f0a0-4472-b636-eadc0de6c82c",
   "metadata": {
    "tags": []
   },
   "outputs": [],
   "source": [
    "theta = np.linspace(-np.pi, np.pi, 500);\n",
    "I = 4 * ((np.sin(np.pi * np.sin(theta)) / (np.pi * np.sin(theta))) ** 2) * ((np.cos(3 * np.pi * np.sin(theta))) ** 2);\n",
    "g1 = 0.8 * np.exp(-(theta + 0.5) ** 2 / 0.31) + 1.5;\n",
    "g2 = 0.8 * np.exp(-(theta - 0.5) ** 2 / 0.31) + 1.5;\n",
    "base1 = np.linspace(1.49, 1.49, 500);\n",
    "base2 = np.linspace(-0.01, -0.01, 500);\n",
    "colx1 = np.linspace(-np.pi, -0.6, 150);\n",
    "colx2 = np.linspace(-0.4, 0.4, 150); \n",
    "colx3 = np.linspace(0.6, np.pi, 150); \n",
    "coll = np.linspace(3, 3, 150);\n",
    "\n",
    "wavex = np.linspace(-1, 1, 300);\n",
    "wave1 = np.linspace(4.0, 4.0, 300);\n",
    "wave2 = np.linspace(4.4, 4.4, 300);\n",
    "wave3 = np.linspace(4.8, 4.8, 300);\n",
    "wave4 = np.linspace(5.2, 5.2, 300);\n",
    "\n",
    "fig, ax = plt.subplots()\n",
    "ax.plot(theta, I/np.max(I), lw=3)\n",
    "ax.plot(theta, np.vstack([g1, g2]).T, lw=1);\n",
    "ax.plot(theta, base1, c='k', lw=1);\n",
    "ax.plot(theta, base2, c='k', lw=2.5);\n",
    "ax.plot(np.vstack([colx1, colx2, colx3]).T, coll, 'k', lw=4)\n",
    "ax.plot(wavex, np.vstack([wave1, wave2, wave3, wave4]).T, c='b', lw=1.5);\n",
    "ax.annotate('', (0, 3.4), (0, 4), arrowprops=dict(arrowstyle=\"simple\", facecolor='b', edgecolor='blue'))\n",
    "ax.set(xticks=[], yticks=[], xlim=[-1.57, 1.57], ylim=[-0.01, 5.22])\n",
    "ax.axis('off')\n",
    "plt.show()"
   ]
  },
  {
   "cell_type": "markdown",
   "id": "d597c359-7e62-46ce-a2fe-09234f97de93",
   "metadata": {
    "jp-MarkdownHeadingCollapsed": true,
    "tags": []
   },
   "source": [
    "## Probability density function"
   ]
  },
  {
   "cell_type": "code",
   "execution_count": null,
   "id": "3bd5ec08-be13-46bf-916a-350bdd06c0a3",
   "metadata": {
    "tags": []
   },
   "outputs": [],
   "source": [
    "x = np.linspace(-2, 1, 10000)\n",
    "y = np.cos(2 * x) + np.sin(3 * x) + 0.708\n",
    "lower, upper = (-0.2, 0.75)\n",
    "idx = (x > lower) & (x < upper);\n",
    "\n",
    "fig, ax = plt.subplots()\n",
    "ax.plot(x, y, lw=2.5, zorder=5)\n",
    "ax.fill_between(x[idx], y[idx], color='lightgray', zorder=-5)\n",
    "ax.annotate(\"$a$\", (lower, -0.03), va='top', ha='center', fontsize=24, annotation_clip=False)\n",
    "ax.annotate(\"$b$\", (upper, -0.03), va='top', ha='center', fontsize=24, annotation_clip=False)\n",
    "ax.annotate(\"$|\\Psi(x,t)|^2$\", (-0.3, 1), ha='right', fontsize=24, annotation_clip=False)\n",
    "ax.set(xticks=[], yticks=[], ylim=[0,2.5])\n",
    "ax.spines[['left']].set_visible(False)\n",
    "plt.show()\n",
    "fig.savefig(\"prob-density.pdf\")"
   ]
  },
  {
   "cell_type": "markdown",
   "id": "b8b34554-471f-4e5d-972f-7eb33f1ee21c",
   "metadata": {
    "jp-MarkdownHeadingCollapsed": true,
    "tags": []
   },
   "source": [
    "## Stationary states"
   ]
  },
  {
   "cell_type": "code",
   "execution_count": null,
   "id": "c305d929-12c7-48f1-a4e5-60c22ea8c934",
   "metadata": {
    "tags": []
   },
   "outputs": [],
   "source": [
    "x = np.linspace(0, np.pi, 10000)\n",
    "p1 = np.sin(x)\n",
    "p2 = np.sin(2*x)\n",
    "p3 = np.sin(3*x)\n",
    "state = 1\n",
    "\n",
    "fig, ax = plt.subplots()\n",
    "if state == 1:\n",
    "    pp = p1\n",
    "elif state == 2:\n",
    "    pp = p2\n",
    "else:\n",
    "    pp = p3\n",
    "ax.plot([0, 0], [-0.4, 1.1], c='k', lw=1)\n",
    "ax.plot([-0.4, 3.3], [0, 0], c='k', lw=1)\n",
    "ax.plot(x, pp, lw=3.5, zorder=5)\n",
    "ax.set(xlim=[-0.5, 3.3], ylim=[-1.1, 1.1], xticks=[], yticks=[])\n",
    "ax.axis('off')\n",
    "ax.annotate(f\"$\\psi_{state}(x)$\", (-0.6, 0.9), fontsize=20, annotation_clip=False)\n",
    "plt.show()\n",
    "fig.savefig(f\"ss-{state}.pdf\")"
   ]
  },
  {
   "cell_type": "markdown",
   "id": "8b49773b-e197-4b07-8c12-6ed9be4ace33",
   "metadata": {
    "jp-MarkdownHeadingCollapsed": true,
    "tags": []
   },
   "source": [
    "## Quantum dot"
   ]
  },
  {
   "cell_type": "code",
   "execution_count": null,
   "id": "fba9d010-1d13-499e-afcd-67c25fbe5fbb",
   "metadata": {
    "tags": []
   },
   "outputs": [],
   "source": [
    "x = np.linspace(0, 10, 10000)\n",
    "y1 = np.exp(-(x - 1.5) ** 2)\n",
    "y2 = np.exp(-(x - 4.0) ** 2)\n",
    "y3 = np.exp(-(x - 6.5) ** 2)\n",
    "\n",
    "fig, ax = plt.subplots(figsize=(7,4))\n",
    "ax.plot(x, y1, 'b', lw=3)\n",
    "ax.plot(x, y2, 'g', lw=3)\n",
    "ax.plot(x, y3, 'r', lw=3)\n",
    "ax.set(xlim=[-0.01, 8], ylim=[-0.01, 1.05], xticks=[], yticks=[], ylabel='Intensity (a.u.)', xlabel='Wavelength of light ($\\lambda$)')\n",
    "ax.annotate('2 nm', (1.9, 0.95))\n",
    "ax.annotate('3 nm', (4.4, 0.95))\n",
    "ax.annotate('5 nm', (6.9, 0.95))\n",
    "plt.show()\n",
    "fig.savefig(\"quantum-dot-plot.pdf\")"
   ]
  },
  {
   "cell_type": "markdown",
   "id": "e749b030-48ab-437e-94fb-16c736829414",
   "metadata": {
    "jp-MarkdownHeadingCollapsed": true,
    "tags": []
   },
   "source": [
    "## Kronig-Penney model"
   ]
  },
  {
   "cell_type": "code",
   "execution_count": null,
   "id": "f1c5017e-18b0-40b9-a138-f8aafbf7911d",
   "metadata": {
    "tags": []
   },
   "outputs": [],
   "source": [
    "# Constants\n",
    "a = 2e-10\n",
    "Emax = 100 * 1.6e-19\n",
    "hbar = 1.055e-34\n",
    "mass = 9.11e-31\n",
    "\n",
    "E = np.linspace(0, Emax, 100000)\n",
    "mu = 10 ** 0.5\n",
    "k = np.sqrt(2 * mass * E) / hbar\n",
    "rhs = np.cos(k * a) + mu * np.sin(k * a) / (k * a);\n",
    "\n",
    "q = np.arccos(rhs)\n",
    "ind1 = np.arange(3300, 9421)\n",
    "ind2 = np.arange(17887, 37700)\n",
    "ind3 = np.arange(48119, 84785)\n",
    "E = E / 1.6e-19\n",
    "\n",
    "# fig, ax = plt.subplots()\n",
    "# ax.plot( q[ind1], E[ind1], c='C0', lw=3)\n",
    "# ax.plot(-q[ind1], E[ind1], c='C0', lw=3)\n",
    "# ax.plot( q[ind2], E[ind2], c='C0', lw=3)\n",
    "# ax.plot(-q[ind2], E[ind2], c='C0', lw=3)\n",
    "# ax.plot( q[ind3], E[ind3], c='C0', lw=3)\n",
    "# ax.plot(-q[ind3], E[ind3], c='C0', lw=3)\n",
    "# ax.set(xlabel='$q$', ylabel='Energy', xlim=[-np.pi-0.2, np.pi+0.2], ylim=[0, 90], yticks=[])\n",
    "# ax.set(xticks=[-np.pi, 0, np.pi], xticklabels=[\"$-\\pi/d$\", \"$0$\", \"$\\pi/d$\"])\n",
    "# ax.vlines([-np.pi, 0, np.pi], 0, 90, ls='dashed', color='gray', lw=1.5, zorder=-3)\n",
    "# plt.show()\n",
    "# fig.savefig(\"E-vs-q-2.pdf\")\n",
    "\n",
    "fig, ax = plt.subplots()\n",
    "ax.plot(q[ind1], E[ind1], c='C0', lw=3)\n",
    "ax.plot(q[ind2] + np.pi, np.flip(E[ind2]), c='C0', lw=3)\n",
    "ax.plot(q[ind3] + 2*np.pi, E[ind3], c='C0', lw=3)\n",
    "ax.set(xlabel='$q$', ylabel='Energy', xlim=[0, 3*np.pi+0.2], ylim=[0, 90], yticks=[])\n",
    "ax.set(xticks=[0, np.pi, 2*np.pi, 3*np.pi], xticklabels=[\"$0$\", \"$\\pi/d$\", \"$2\\pi/d$\", \"$3\\pi/d$\"])\n",
    "ax.vlines([np.pi, 2*np.pi, 3*np.pi], 0, 90, ls='dashed', color='gray', lw=1.5, zorder=-3)\n",
    "plt.show()\n",
    "fig.savefig(\"E-vs-q-1.pdf\")"
   ]
  },
  {
   "cell_type": "markdown",
   "id": "71004b88-4e6c-42b7-a40f-51122066f47b",
   "metadata": {
    "jp-MarkdownHeadingCollapsed": true,
    "tags": []
   },
   "source": [
    "## Parabolic potential"
   ]
  },
  {
   "cell_type": "code",
   "execution_count": null,
   "id": "ac952624-d051-4d9b-88e3-29fc54863b88",
   "metadata": {
    "tags": []
   },
   "outputs": [],
   "source": [
    "x = np.linspace(-1, 9, 10000)\n",
    "y = 0.7 * np.sin((x + 1.7)/2) + np.cos(x - 0.3) + 0.03 * np.exp(x - 5)\n",
    "z = 0.5 * (x - 3.774) ** 2 - 0.661\n",
    "\n",
    "fig, ax = plt.subplots()\n",
    "ax.plot(x, y, lw=4)\n",
    "ax.plot(x, z, 'k--', lw=3.5)\n",
    "ax.set(xlim=[-1, 9], ylim=[-1, 2], xticks=[], yticks=[], xlabel='$x$', ylabel='$V(x)$')\n",
    "plt.show()\n",
    "fig.savefig(\"qpot-min.pdf\")"
   ]
  },
  {
   "cell_type": "markdown",
   "id": "92eade2a-1aac-4b59-b83d-71a48a939d6e",
   "metadata": {
    "jp-MarkdownHeadingCollapsed": true,
    "tags": []
   },
   "source": [
    "## Hermite polynomials"
   ]
  },
  {
   "cell_type": "code",
   "execution_count": null,
   "id": "595c3fae-4208-4223-a0a9-4dfbcf2a81e5",
   "metadata": {
    "tags": []
   },
   "outputs": [],
   "source": [
    "a = 0.036\n",
    "x = np.linspace(-a, a, 1000)\n",
    "m = 9e-31\n",
    "w = 1e1\n",
    "hbar = 1e-34\n",
    "C = (m * w / (np.pi * hbar)) ** 0.25\n",
    "q = np.sqrt(m * w / hbar)\n",
    "n = 50\n",
    "psi = hermite(n)\n",
    "# psi = hermiteH(n, q*x) .* exp(-q^2*x.^2/2);\n",
    "# psi = C * 1/(sqrt(2^n*factorial(n))) * hermiteH(n, q*x) .* exp(-q^2*x.^2/2);\n",
    "prob = (psi(q * x) * np.exp(-q**2 * x**2 / 2)) ** 2;\n",
    "\n",
    "fig, ax = plt.subplots()\n",
    "ax.plot(x, prob, lw=2);\n",
    "ax.set(xlim=[-1.1*a, 1.1*a], ylim=[0, 1.1*max(prob)], xticks=[], yticks=[], xlabel='$x$', ylabel='$|\\psi_{50}(x)|^2$')\n",
    "plt.show()\n",
    "fig.savefig(\"hermite.pdf\")"
   ]
  },
  {
   "cell_type": "markdown",
   "id": "bb06bc81-c8f4-4a1d-ade9-b2f010aba38a",
   "metadata": {
    "jp-MarkdownHeadingCollapsed": true,
    "tags": []
   },
   "source": [
    "## Casimir effect"
   ]
  },
  {
   "cell_type": "code",
   "execution_count": null,
   "id": "d5f6e154-240d-4325-a484-766818576987",
   "metadata": {
    "tags": []
   },
   "outputs": [],
   "source": [
    "x = np.linspace(-10, 10, 10000)\n",
    "y = np.zeros([5, len(x)])\n",
    "y[0,:] = np.sin(5.0 * x) + 12\n",
    "y[1,:] = np.sin(4.0 * x) + 9\n",
    "y[2,:] = np.sin(2.0 * x) + 6\n",
    "y[3,:] = np.sin(0.9 * x) + 3\n",
    "y[4,:] = np.sin(0.5 * x)\n",
    "left = x <= 0\n",
    "right = x >= np.pi\n",
    "\n",
    "fig, ax = plt.subplots(figsize=(7,5))\n",
    "ax.plot(x, y[:3, :].T, c=\"C1\", lw=3)\n",
    "ax.plot(x[left], y[3:, left].T, c=\"C1\", lw=3)\n",
    "ax.plot(x[right], y[3:, right].T, c=\"C1\", lw=3)\n",
    "ax.plot([0, 0], [-2, 14.5], c='C0', lw=4)\n",
    "ax.plot([np.pi, np.pi], [-2, 14.5], c='C0', lw=4)\n",
    "ax.plot([-5*np.pi/4, -5*np.pi/4], [4, 5], c='k', lw=1.5)\n",
    "ax.plot([-np.pi/4, -np.pi/4], [4, 5], c='k', lw=1.5)\n",
    "ax.set(xlim=[-4.5, np.pi+4.5], ylim=[-5, 17], xticks=[], yticks=[])\n",
    "ax.spines[['left', 'bottom']].set_visible(False)\n",
    "\n",
    "ax.annotate(\"Casimir plates\", (np.pi/2, -4.5), ha='center', c='C0', fontsize=20, annotation_clip=False)\n",
    "ax.annotate(\"vacuum\\nfluctuations\", (4, 14.5), fontsize=18, c='C1', annotation_clip=False)\n",
    "ax.annotate(\"$d$\", (1.33, 15))\n",
    "ax.annotate('', (0, 14), (np.pi, 14), arrowprops=dict(arrowstyle=\"<->\"))\n",
    "ax.annotate(\"$\\lambda$\", (-2.5, 3))\n",
    "ax.annotate('', (-5*np.pi/4, 4.5), (-np.pi/4, 4.5), arrowprops=dict(arrowstyle=\"<->\"))\n",
    "ax.annotate(\"$\\lambda > d$\", (4, -2))\n",
    "ax.annotate('', (0, 1.6), (-1.5, 1.6), arrowprops=dict(arrowstyle=\"simple\", mutation_scale=50, facecolor='C2', edgecolor='C2'))\n",
    "ax.annotate('', (np.pi, 1.6), (np.pi+1.5, 1.6), arrowprops=dict(arrowstyle=\"simple\", mutation_scale=50, facecolor='C2', edgecolor='C2'))\n",
    "plt.show()\n",
    "fig.savefig(\"casimir.pdf\")"
   ]
  },
  {
   "cell_type": "markdown",
   "id": "936b74bc-59b1-4658-a92f-17af2fcb0e8a",
   "metadata": {
    "jp-MarkdownHeadingCollapsed": true,
    "tags": []
   },
   "source": [
    "## Phonon modes"
   ]
  },
  {
   "cell_type": "code",
   "execution_count": null,
   "id": "d9c0a7e9-9f6b-460c-b8cc-ab54984dd093",
   "metadata": {
    "tags": []
   },
   "outputs": [],
   "source": [
    "x = np.linspace(0, np.pi, 10000)\n",
    "m1 = 7\n",
    "m2 = 10\n",
    "C = 100\n",
    "k = 0.1\n",
    "d = 1\n",
    "y1 = np.sqrt(C / (m1 * m2) * (m1 + m2 + np.sqrt(m1**2 + m2**2 + 2*m1*m2 * np.cos(x * d))))\n",
    "y2 = np.sqrt(C / (m1 * m2) * (m1 + m2 - np.sqrt(m1**2 + m2**2 + 2*m1*m2 * np.cos(x * d))))\n",
    "\n",
    "fig, ax = plt.subplots(figsize=(5,5))\n",
    "ax.plot(x, y1, lw=5)\n",
    "ax.plot(x, y2, lw=5)\n",
    "ax.set(xlim=[0, np.pi], ylim=[0, 7.2], xlabel='$k$', ylabel='$\\omega(k)$', xticks=[], yticks=[])\n",
    "\n",
    "ax.annotate(\"optical\", (0.5, 5.8), c=\"C0\")\n",
    "ax.annotate(\"acoustic\", (0.5, 2.5), c=\"C1\")\n",
    "ax.annotate(\"$\\pi/d$\", (np.pi, -0.1), va='top', ha='center', annotation_clip=False, fontsize=17)\n",
    "# txt1 = 'optical';\n",
    "# txt2 = 'acoustic';\n",
    "# txt3 = '\\pi/d';\n",
    "# text(0.5, 6, txt1, 'fontsize', 28, 'color', colord(1,:));\n",
    "# text(0.5, 3, txt2, 'fontsize', 28, 'color', colord(2,:));\n",
    "# text(pi-0.2, -0.5, txt3, 'fontsize', 28);\n",
    "plt.show()\n",
    "fig.savefig(\"phonon-modes.pdf\")"
   ]
  }
 ],
 "metadata": {
  "kernelspec": {
   "display_name": "Python 3 (ipykernel)",
   "language": "python",
   "name": "python3"
  },
  "language_info": {
   "codemirror_mode": {
    "name": "ipython",
    "version": 3
   },
   "file_extension": ".py",
   "mimetype": "text/x-python",
   "name": "python",
   "nbconvert_exporter": "python",
   "pygments_lexer": "ipython3",
   "version": "3.8.16"
  },
  "widgets": {
   "application/vnd.jupyter.widget-state+json": {
    "state": {},
    "version_major": 2,
    "version_minor": 0
   }
  }
 },
 "nbformat": 4,
 "nbformat_minor": 5
}
